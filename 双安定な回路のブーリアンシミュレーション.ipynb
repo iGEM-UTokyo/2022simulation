{
  "nbformat": 4,
  "nbformat_minor": 0,
  "metadata": {
    "colab": {
      "name": "双安定な回路のブーリアンシミュレーション.ipynb",
      "provenance": [],
      "authorship_tag": "ABX9TyOKBv3of4341uY5t0yFUKhN",
      "include_colab_link": true
    },
    "kernelspec": {
      "name": "python3",
      "display_name": "Python 3"
    },
    "language_info": {
      "name": "python"
    }
  },
  "cells": [
    {
      "cell_type": "markdown",
      "metadata": {
        "id": "view-in-github",
        "colab_type": "text"
      },
      "source": [
        "<a href=\"https://colab.research.google.com/github/iGEM-UTokyo/2022simulation/blob/main/%E5%8F%8C%E5%AE%89%E5%AE%9A%E3%81%AA%E5%9B%9E%E8%B7%AF%E3%81%AE%E3%83%96%E3%83%BC%E3%83%AA%E3%82%A2%E3%83%B3%E3%82%B7%E3%83%9F%E3%83%A5%E3%83%AC%E3%83%BC%E3%82%B7%E3%83%A7%E3%83%B3.ipynb\" target=\"_parent\"><img src=\"https://colab.research.google.com/assets/colab-badge.svg\" alt=\"Open In Colab\"/></a>"
      ]
    },
    {
      "cell_type": "code",
      "execution_count": null,
      "metadata": {
        "id": "IpxvooKf1lNJ"
      },
      "outputs": [],
      "source": [
        "import sys\n",
        "\n",
        "#クラスを定義する\n",
        "\n",
        "#MemoryクラスとProcessorクラスの親となるParentクラスを定義する\n",
        "class Parent:\n",
        "  def __init__(self,ik1:str,ik2:str,ok1:str,ok2:str): #ik1, ik2, ok1, ok2は入力と出力の配線となるキーワード\n",
        "    self.input_key1 = ik1\n",
        "    self.input_key2 = ik2\n",
        "    self.output_key1 = ok1\n",
        "    self.output_key2 = ok2\n",
        "\n",
        "#MemoryクラスをParentクラスから継承して作成\n",
        "class Memory(Parent):\n",
        "  def __init__(self,ik1,ik2,ok1,ok2):\n",
        "    if (ik1 == \"dummy\")or(ik2 == \"dummy\")or(ok1 == \"dummy\")or(ok2 == \"dummy\"):\n",
        "      print('Error: \"dummy\" cannot be used for keys', file=sys.stderr)\n",
        "    super().__init__(ik1,ik2,ok1,ok2)\n",
        "    self.status = 0 #statusはMaならば0、Mbならば1の状態を表す。Ma、Mbについてはnotion参照。ここではどちらかがオフになるともう一方がオンになるとしている。\n",
        "  def update(self,S): #入力Aで出力Bを返し、入力Bで出力Aをリストで返す。入力が無いときは前回の出力を返す。\n",
        "    if (self.input_key1 in S)and(self.input_key2 in S):\n",
        "      print('Error: Memory status cannot be defined',file=sys.stderr)\n",
        "    else:\n",
        "      if self.input_key1 in S:\n",
        "        self.status = 1\n",
        "      if self.input_key2 in S:\n",
        "        self.status = 0\n",
        "      if self.status == 0:\n",
        "        return [self.output_key1]\n",
        "      if self.status == 1:\n",
        "        return [self.output_key2]\n",
        "\n",
        "#ProcessorクラスをParentクラスクラスから継承して作成\n",
        "class Processor(Parent):\n",
        "  def __init__(self,ik1,ok1,ok2):\n",
        "    if (ik1 == \"dummy\")or(ok1 == \"dummy\")or(ok2 == \"dummy\"):\n",
        "      print('Error: \"dummy\" cannot be used for keys', file=sys.stderr)\n",
        "    super().__init__(ik1,\"dummy\",ok1,ok2)\n",
        "  def update(self,S,L):\n",
        "    if self.input_key1 in S:\n",
        "      return [] #Sから入力が入っている時には空リストを返す\n",
        "    else: #Rが入力にあれば出力Aを、Bが入力にあれば出力Bをリストで返す\n",
        "      output = []\n",
        "      if \"R\" in L:\n",
        "        output.append(self.output_key1)\n",
        "      if \"B\" in L:\n",
        "        output.append(self.output_key2)\n",
        "      return output"
      ]
    },
    {
      "cell_type": "code",
      "source": [
        "#モデルの定義。インスタンスごとの接続はここで作る。\n",
        "def simulation(Ls):\n",
        "  S = []\n",
        "  op = []\n",
        "\n",
        "  #ikとokを一致させることで入出力を作る。\n",
        "  m1 = Memory(\"a\",\"b\",\"c\",\"d\")\n",
        "  m2 = Memory(\"e\",\"f\",\"g\",\"c\")\n",
        "  Memorys = [m1,m2]\n",
        "\n",
        "  p1 = Processor(\"d\",\"a\",\"null\")\n",
        "  p2 = Processor(\"c\",\"e\",\"b\")\n",
        "  Processors = [p1,p2]\n",
        "\n",
        "  reporter_key = \"g\"\n",
        "\n",
        "  def update(S,L): #Memorys, ProcessorsというMemoryとProcessorのインスタンスのリストがあることを前提としている。\n",
        "    output = []\n",
        "    processor_output = []\n",
        "    #Processorを先に処理する。Processorの結果は次回以降に引き継がれない\n",
        "    for p in Processors:\n",
        "      processor_output = processor_output + p.update(S,L)\n",
        "    for m in Memorys:\n",
        "      output = output + m.update(S+processor_output)\n",
        "    return output\n",
        "  def output(S):\n",
        "    #print(S)\n",
        "    if reporter_key in S:\n",
        "      op.append(0)\n",
        "    else:\n",
        "      op.append(1)\n",
        "  S = update(S,\"\")\n",
        "  for L in Ls:\n",
        "    S = update(S,L)\n",
        "    output(S)\n",
        "  return op"
      ],
      "metadata": {
        "id": "DTBmAwEG9atM"
      },
      "execution_count": null,
      "outputs": []
    },
    {
      "cell_type": "code",
      "source": [
        "import matplotlib.pyplot as plt\n",
        "\n",
        "# Ls = [\"RB\",\"R\",\"B\"] #同時照射を考えるときはリストで入力\n",
        "Ls = \"RBRBBRRB\" #同時照射を考えないときは文字列で入力\n",
        "\n",
        "#Lsが部分文字列RR(正解の配列)を持つと1（レポーター）が出力される\n",
        "res = simulation(Ls)\n",
        "if type(Ls) == str:\n",
        "  Ls = list(Ls)\n",
        "plt.plot(res)\n",
        "plt.xticks(range(len(Ls)),Ls)\n",
        "\n",
        "plt.show()"
      ],
      "metadata": {
        "colab": {
          "base_uri": "https://localhost:8080/",
          "height": 265
        },
        "id": "s5jmIWSA3zY0",
        "outputId": "6ad1df65-4a2b-4421-bd9a-2976e522b531"
      },
      "execution_count": null,
      "outputs": [
        {
          "output_type": "display_data",
          "data": {
            "text/plain": [
              "<Figure size 432x288 with 1 Axes>"
            ],
            "image/png": "[encoded data removed]"
          },
          "metadata": {
            "needs_background": "light"
          }
        }
      ]
    }
  ]
}